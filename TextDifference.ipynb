{
 "cells": [
  {
   "cell_type": "code",
   "execution_count": 7,
   "metadata": {},
   "outputs": [
    {
     "name": "stderr",
     "output_type": "stream",
     "text": [
      "[nltk_data] Downloading package stopwords to C:\\Users\\Chang\n",
      "[nltk_data]     Kiat\\AppData\\Roaming\\nltk_data...\n",
      "[nltk_data]   Package stopwords is already up-to-date!\n",
      "[nltk_data] Downloading package vader_lexicon to C:\\Users\\Chang\n",
      "[nltk_data]     Kiat\\AppData\\Roaming\\nltk_data...\n",
      "[nltk_data]   Package vader_lexicon is already up-to-date!\n"
     ]
    }
   ],
   "source": [
    "import re\n",
    "import nltk\n",
    "from nltk.stem import PorterStemmer\n",
    "from nltk.corpus import stopwords\n",
    "from nltk.sentiment import SentimentIntensityAnalyzer\n",
    "import matplotlib.pyplot as plt\n",
    "\n",
    "nltk.download(['stopwords','vader_lexicon'])\n",
    "\n",
    "stopWords = set(stopwords.words(\"english\"))\n",
    "\n",
    "def preprocess(s):\n",
    "    processed_wordlist = []\n",
    "    # Convert string to lowercase\n",
    "    s = s.lower()\n",
    "    wordlist = s.split()\n",
    "    for word in wordlist:\n",
    "        # Avoid processing stop words\n",
    "        if word not in stopWords:\n",
    "            # Remove symbols\n",
    "            word = re.sub(r'[^\\w]', \" \", word)\n",
    "            processed_words = word.split()\n",
    "            for w in processed_words:\n",
    "                # Not adding words with only one alphabet\n",
    "                if len(w) > 1:\n",
    "                    processed_wordlist.append(w)\n",
    "    return processed_wordlist\n",
    "\n",
    "def word_frequency(wordlist):\n",
    "    # Count the number of appearances for each word\n",
    "    wordfreq = []\n",
    "    for w in wordlist:\n",
    "        wordfreq.append(wordlist.count(w))\n",
    "\n",
    "    result = list(zip(wordlist, wordfreq))\n",
    "    # Remove duplicates\n",
    "    result = list(dict.fromkeys(result))\n",
    "    # Sort the list\n",
    "    result = sorted(result, key=lambda x:x[1], reverse=True)\n",
    "    return result"
   ]
  },
  {
   "cell_type": "code",
   "execution_count": 8,
   "metadata": {},
   "outputs": [
    {
     "data": {
      "image/png": "[encoded data removed]",
      "text/plain": [
       "<Figure size 1440x360 with 1 Axes>"
      ]
     },
     "metadata": {
      "needs_background": "light"
     },
     "output_type": "display_data"
    },
    {
     "name": "stdout",
     "output_type": "stream",
     "text": [
      "--------------------------------------------------------\n",
      "Words which are missing in text2\n",
      "--------------------------------------------------------\n",
      "('banana', 1)\n",
      "('durian', 1)\n",
      "--------------------------------------------------------\n",
      "Similarity between text1 and text2: 50.0%\n",
      "Sentiment Analysis on text2: Postive - 0.0%, Negative - 0.0%, Neutral - 100.0%\n",
      "--------------------------------------------------------\n"
     ]
    }
   ],
   "source": [
    "text1 = \"\"\"\n",
    "Apple Banana Carrot Durian\n",
    "\"\"\"\n",
    "\n",
    "text2 = \"\"\"\n",
    "Apple Carrot\n",
    "\"\"\"\n",
    "\n",
    "# Determine word frequencies\n",
    "text1_result = word_frequency(preprocess(text1))\n",
    "text1_words, text1_word_count = zip(*text1_result)\n",
    "text1_result_count = len(text1_result)\n",
    "text2_result = word_frequency(preprocess(text2))\n",
    "text2_words, text2_word_count = zip(*text2_result)\n",
    "\n",
    "# Show graph for top 10 words in terms of frequency\n",
    "plt.rcParams[\"figure.figsize\"]=(20, 5)\n",
    "plt.bar(\n",
    "    text1_words[:10],\n",
    "    text1_word_count[:10]\n",
    ")\n",
    "plt.show()\n",
    "\n",
    "# Stemming\n",
    "text2_stem_list = []\n",
    "ps = PorterStemmer()\n",
    "for w in text2_words:\n",
    "    text2_stem_list.append(ps.stem(w))\n",
    "\n",
    "# Filter away words which appear in text2\n",
    "filtered_text1_result = [word for word in text1_result if not word[0] in text2_words]\n",
    "# Remove words with the same stem\n",
    "words_to_remove = []\n",
    "for w in filtered_text1_result:\n",
    "    if ps.stem(w[0]) in text2_stem_list:\n",
    "        words_to_remove.append(w[0])\n",
    "filtered_base_result = [word for word in filtered_text1_result if not word[0] in words_to_remove]\n",
    "similarity = (1 - (len(filtered_text1_result) / text1_result_count)) * 100\n",
    "\n",
    "# Sentiment Analysis\n",
    "sa = SentimentIntensityAnalyzer()\n",
    "sa_result = sa.polarity_scores(text2)\n",
    "\n",
    "# Print Information\n",
    "print(\"--------------------------------------------------------\")\n",
    "print(\"Words which are missing in text2\")\n",
    "print(\"--------------------------------------------------------\")\n",
    "print(*sorted(filtered_base_result, key=lambda x:x[1], reverse=True), sep='\\n')\n",
    "print(\"--------------------------------------------------------\")\n",
    "print(\"Similarity between text1 and text2: \" + str(round(similarity,2)) + \"%\")\n",
    "print(\"Sentiment Analysis on text2: Postive - {0}%, Negative - {1}%, Neutral - {2}%\".format(str(sa_result[\"pos\"] * 100), str(sa_result[\"neg\"] * 100), str(sa_result[\"neu\"] * 100)))\n",
    "print(\"--------------------------------------------------------\")"
   ]
  }
 ],
 "metadata": {
  "kernelspec": {
   "display_name": "Python 3",
   "language": "python",
   "name": "python3"
  },
  "language_info": {
   "codemirror_mode": {
    "name": "ipython",
    "version": 3
   },
   "file_extension": ".py",
   "mimetype": "text/x-python",
   "name": "python",
   "nbconvert_exporter": "python",
   "pygments_lexer": "ipython3",
   "version": "3.8.5"
  }
 },
 "nbformat": 4,
 "nbformat_minor": 4
}

{
 "cells": [
  {
   "cell_type": "code",
   "execution_count": 6,
   "metadata": {},
   "outputs": [],
   "source": [
    "# References:\n",
    "# https://towardsdatascience.com/clustering-documents-with-python-97314ad6a78d\n",
    "# https://stackoverflow.com/questions/1793532/how-do-i-determine-k-when-using-k-means-clustering\n",
    "\n",
    "from sklearn.feature_extraction.text import TfidfVectorizer\n",
    "from sklearn.cluster import KMeans\n",
    "from sklearn.metrics import silhouette_score\n",
    "import matplotlib.pyplot as plt\n",
    "import pandas as pd\n",
    "\n",
    "articles=['analysis data text normalization statistics technology','ai learning machine artificial intelligence','artificial intelligence ai','money bank','money bank','finance technology','fund bank money','basket ball player','diving stroke breathing','swing net ball player']\n",
    "titles=['Data Science','Artificial intelligence','Machine Learning','European Central Bank','Bank','Financial technology','International Monetary Fund','Basketball','Swimming','Tennis']"
   ]
  },
  {
   "cell_type": "code",
   "execution_count": 7,
   "metadata": {},
   "outputs": [
    {
     "data": {
      "image/png": "[encoded data removed]",
      "text/plain": [
       "<Figure size 432x288 with 1 Axes>"
      ]
     },
     "metadata": {
      "needs_background": "light"
     },
     "output_type": "display_data"
    }
   ],
   "source": [
    "# Represent each document as a vector\n",
    "vectorizer = TfidfVectorizer(stop_words={'english'})\n",
    "X = vectorizer.fit_transform(articles)\n",
    "\n",
    "# Using elbow method to determine the number of clusters\n",
    "Sum_of_squared_distances = []\n",
    "K = range(2,10)\n",
    "best_cluster_no = 0 # best cluster number which you will get\n",
    "previous_silh_avg = 0.0\n",
    "\n",
    "for k in K:\n",
    "    km = KMeans(n_clusters=k, max_iter=200, n_init=10)\n",
    "    km = km.fit(X)\n",
    "    Sum_of_squared_distances.append(km.inertia_)\n",
    "    \n",
    "    # To determine the most optimal number of clusters automatically (without looking at the graph)\n",
    "    cluster_labels = km.fit_predict(X)\n",
    "    silhouette_avg = silhouette_score(X, cluster_labels)\n",
    "    if silhouette_avg > previous_silh_avg:\n",
    "        previous_silh_avg = silhouette_avg\n",
    "        best_cluster_no = k\n",
    "\n",
    "plt.plot(K, Sum_of_squared_distances, 'bx-')\n",
    "plt.xlabel('k')\n",
    "plt.ylabel('Sum of Squared Distances')\n",
    "plt.title('Elbow Method For Optimal k')\n",
    "plt.show()"
   ]
  },
  {
   "cell_type": "code",
   "execution_count": 8,
   "metadata": {},
   "outputs": [
    {
     "name": "stdout",
     "output_type": "stream",
     "text": [
      "                         title  cluster\n",
      "3        European Central Bank        0\n",
      "4                         Bank        0\n",
      "6  International Monetary Fund        0\n",
      "1      Artificial intelligence        1\n",
      "2             Machine Learning        1\n",
      "7                   Basketball        2\n",
      "9                       Tennis        2\n",
      "8                     Swimming        3\n",
      "0                 Data Science        4\n",
      "5         Financial technology        4\n"
     ]
    }
   ],
   "source": [
    "# Perform K-Means clustering\n",
    "model = KMeans(n_clusters=best_cluster_no, init='k-means++', max_iter=200, n_init=10)\n",
    "model.fit(X)\n",
    "labels=model.labels_\n",
    "cls=pd.DataFrame(list(zip(titles,labels)),columns=['title','cluster'])\n",
    "print(cls.sort_values(by=['cluster']))"
   ]
  }
 ],
 "metadata": {
  "kernelspec": {
   "display_name": "Python 3",
   "language": "python",
   "name": "python3"
  },
  "language_info": {
   "codemirror_mode": {
    "name": "ipython",
    "version": 3
   },
   "file_extension": ".py",
   "mimetype": "text/x-python",
   "name": "python",
   "nbconvert_exporter": "python",
   "pygments_lexer": "ipython3",
   "version": "3.8.5"
  }
 },
 "nbformat": 4,
 "nbformat_minor": 4
}
